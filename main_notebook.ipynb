{
 "cells": [
  {
   "cell_type": "code",
   "execution_count": 8,
   "metadata": {
    "id": "4MsGjmdELHss"
   },
   "outputs": [],
   "source": [
    "import warnings\n",
    "warnings.filterwarnings(\"ignore\")\n",
    "import tensorflow as tf\n",
    "import numpy as np\n",
    "import tensorflow_datasets as tfds\n",
    "from tensorflow import keras\n",
    "import matplotlib.pyplot as plt\n",
    "import os\n",
    "import PIL\n",
    "import PIL.Image\n",
    "import pandas as pd\n",
    "import pathlib, datetime"
   ]
  },
  {
   "cell_type": "code",
   "execution_count": 2,
   "metadata": {
    "colab": {
     "base_uri": "https://localhost:8080/"
    },
    "id": "cmRnGEzJLRan",
    "outputId": "7fb60071-de2c-4bf3-bbd1-2e1712b7838c"
   },
   "outputs": [
    {
     "name": "stdout",
     "output_type": "stream",
     "text": [
      "\n",
      "Saved under miml_dataset.zip\n"
     ]
    }
   ],
   "source": [
    "!python -m wget https://www.dropbox.com/s/0htmeoie69q650p/miml_dataset.zip"
   ]
  },
  {
   "cell_type": "code",
   "execution_count": 6,
   "metadata": {
    "id": "4MTaKY2aLYsm"
   },
   "outputs": [],
   "source": [
    "from zipfile import ZipFile\n",
    "zf = ZipFile('./miml_dataset.zip', 'r')\n",
    "zf.extractall('./data/')\n",
    "zf.close()"
   ]
  },
  {
   "cell_type": "code",
   "execution_count": 9,
   "metadata": {
    "colab": {
     "base_uri": "https://localhost:8080/",
     "height": 206
    },
    "id": "xtt80dpFLa6X",
    "outputId": "928c1dcf-6ef3-405e-a5d3-594b59552d83"
   },
   "outputs": [
    {
     "data": {
      "text/html": [
       "<div>\n",
       "<style scoped>\n",
       "    .dataframe tbody tr th:only-of-type {\n",
       "        vertical-align: middle;\n",
       "    }\n",
       "\n",
       "    .dataframe tbody tr th {\n",
       "        vertical-align: top;\n",
       "    }\n",
       "\n",
       "    .dataframe thead th {\n",
       "        text-align: right;\n",
       "    }\n",
       "</style>\n",
       "<table border=\"1\" class=\"dataframe\">\n",
       "  <thead>\n",
       "    <tr style=\"text-align: right;\">\n",
       "      <th></th>\n",
       "      <th>Filenames</th>\n",
       "      <th>desert</th>\n",
       "      <th>mountains</th>\n",
       "      <th>sea</th>\n",
       "      <th>sunset</th>\n",
       "      <th>trees</th>\n",
       "    </tr>\n",
       "  </thead>\n",
       "  <tbody>\n",
       "    <tr>\n",
       "      <th>0</th>\n",
       "      <td>1.jpg</td>\n",
       "      <td>1</td>\n",
       "      <td>0</td>\n",
       "      <td>0</td>\n",
       "      <td>0</td>\n",
       "      <td>0</td>\n",
       "    </tr>\n",
       "    <tr>\n",
       "      <th>1</th>\n",
       "      <td>2.jpg</td>\n",
       "      <td>1</td>\n",
       "      <td>0</td>\n",
       "      <td>0</td>\n",
       "      <td>0</td>\n",
       "      <td>0</td>\n",
       "    </tr>\n",
       "    <tr>\n",
       "      <th>2</th>\n",
       "      <td>3.jpg</td>\n",
       "      <td>1</td>\n",
       "      <td>0</td>\n",
       "      <td>0</td>\n",
       "      <td>0</td>\n",
       "      <td>0</td>\n",
       "    </tr>\n",
       "    <tr>\n",
       "      <th>3</th>\n",
       "      <td>4.jpg</td>\n",
       "      <td>1</td>\n",
       "      <td>1</td>\n",
       "      <td>0</td>\n",
       "      <td>0</td>\n",
       "      <td>0</td>\n",
       "    </tr>\n",
       "    <tr>\n",
       "      <th>4</th>\n",
       "      <td>5.jpg</td>\n",
       "      <td>1</td>\n",
       "      <td>0</td>\n",
       "      <td>0</td>\n",
       "      <td>0</td>\n",
       "      <td>0</td>\n",
       "    </tr>\n",
       "  </tbody>\n",
       "</table>\n",
       "</div>"
      ],
      "text/plain": [
       "  Filenames  desert  mountains  sea  sunset  trees\n",
       "0     1.jpg       1          0    0       0      0\n",
       "1     2.jpg       1          0    0       0      0\n",
       "2     3.jpg       1          0    0       0      0\n",
       "3     4.jpg       1          1    0       0      0\n",
       "4     5.jpg       1          0    0       0      0"
      ]
     },
     "execution_count": 9,
     "metadata": {},
     "output_type": "execute_result"
    }
   ],
   "source": [
    "df = pd.read_csv(\"./miml_dataset/miml_labels_1.csv\")\n",
    "df.head()"
   ]
  },
  {
   "cell_type": "code",
   "execution_count": 10,
   "metadata": {
    "id": "B7INOF6ULdC4"
   },
   "outputs": [],
   "source": [
    "LABELS = [\"desert\", \"mountains\", \"sea\", \"sunset\", \"trees\"]"
   ]
  },
  {
   "cell_type": "code",
   "execution_count": 13,
   "metadata": {
    "id": "f2UXQqqWLe6a"
   },
   "outputs": [],
   "source": [
    "data_dir = pathlib.Path(\"miml_dataset\")\n",
    "filenames = list(data_dir.glob('images/*.jpg'))\n",
    "fnames = []\n",
    "for fname in filenames:\n",
    "  fnames.append(str(fname))"
   ]
  },
  {
   "cell_type": "code",
   "execution_count": 14,
   "metadata": {
    "colab": {
     "base_uri": "https://localhost:8080/"
    },
    "id": "eN9smYk2LhHP",
    "outputId": "16533b11-5a1e-450c-ff0b-a79dd1ef962f"
   },
   "outputs": [
    {
     "name": "stdout",
     "output_type": "stream",
     "text": [
      "Number of images in folders:  2000\n",
      "Number of selected samples for dataset:  2000\n"
     ]
    }
   ],
   "source": [
    "ds_size= len(fnames)\n",
    "print(\"Number of images in folders: \", ds_size)\n",
    "\n",
    "number_of_selected_samples=2000\n",
    "filelist_ds = tf.data.Dataset.from_tensor_slices(fnames[:number_of_selected_samples])\n",
    "\n",
    "ds_size= filelist_ds.cardinality().numpy()\n",
    "print(\"Number of selected samples for dataset: \", ds_size)"
   ]
  },
  {
   "cell_type": "code",
   "execution_count": 15,
   "metadata": {
    "id": "zFMujW3RLjRQ"
   },
   "outputs": [],
   "source": [
    "def get_label(file_path):\n",
    "  parts = tf.strings.split(file_path, '/')\n",
    "  file_name = parts[-1]\n",
    "  labels = df[df[\"Filenames\"] == file_name][LABELS].to_numpy().squeeze()\n",
    "  return tf.convert_to_tensor(labels)"
   ]
  },
  {
   "cell_type": "code",
   "execution_count": 16,
   "metadata": {
    "id": "sqWHNwMrLk6N"
   },
   "outputs": [],
   "source": [
    "IMG_WIDTH, IMG_HEIGHT = 64 , 64\n",
    "def decode_img(img):\n",
    "  #color images\n",
    "  img = tf.image.decode_jpeg(img, channels=3) \n",
    "  #convert unit8 tensor to floats in the [0,1]range\n",
    "  img = tf.image.convert_image_dtype(img, tf.float32) \n",
    "  #resize \n",
    "  return tf.image.resize(img, [IMG_WIDTH, IMG_HEIGHT]) "
   ]
  },
  {
   "cell_type": "code",
   "execution_count": 17,
   "metadata": {
    "id": "ZNp81hDBLmQt"
   },
   "outputs": [],
   "source": [
    "def combine_images_labels(file_path: tf.Tensor):\n",
    "  label = get_label(file_path)\n",
    "  img = tf.io.read_file(file_path)\n",
    "  img = decode_img(img)\n",
    "  return img, label"
   ]
  },
  {
   "cell_type": "code",
   "execution_count": 18,
   "metadata": {
    "id": "DnxAoA4dLni8"
   },
   "outputs": [],
   "source": [
    "train_ratio = 0.80\n",
    "ds_train = filelist_ds.take(ds_size * train_ratio)\n",
    "ds_test = filelist_ds.skip(ds_size * train_ratio)"
   ]
  },
  {
   "cell_type": "code",
   "execution_count": 19,
   "metadata": {
    "id": "e_hwb9iiLosL"
   },
   "outputs": [],
   "source": [
    "BATCH_SIZE = 64"
   ]
  },
  {
   "cell_type": "code",
   "execution_count": 20,
   "metadata": {
    "id": "4Voq5l9fLzz1"
   },
   "outputs": [],
   "source": [
    "ds_train = ds_train.map(lambda x: tf.py_function(func = combine_images_labels,\n",
    "          inp =[x], Tout = (tf.float32,tf.int64)),\n",
    "          num_parallel_calls = tf.data.AUTOTUNE,\n",
    "          deterministic = False)"
   ]
  },
  {
   "cell_type": "code",
   "execution_count": 21,
   "metadata": {
    "id": "1mWS_9uvL21c"
   },
   "outputs": [],
   "source": [
    "ds_test = ds_test.map(lambda x: tf.py_function(func = combine_images_labels,\n",
    "          inp = [x], Tout = (tf.float32,tf.int64)),\n",
    "          num_parallel_calls = tf.data.AUTOTUNE,\n",
    "          deterministic = False)"
   ]
  },
  {
   "cell_type": "code",
   "execution_count": 22,
   "metadata": {
    "id": "RhUhtk8KL1Lp"
   },
   "outputs": [],
   "source": [
    "def covert_onehot_string_labels(label_string,label_onehot):\n",
    "  labels = []\n",
    "  for i, label in  enumerate(label_string):\n",
    "     if label_onehot[i]:\n",
    "       labels.append(label)\n",
    "  if len(labels) == 0:\n",
    "    labels.append(\"NONE\")\n",
    "  return labels"
   ]
  },
  {
   "cell_type": "code",
   "execution_count": 23,
   "metadata": {
    "colab": {
     "base_uri": "https://localhost:8080/",
     "height": 951
    },
    "id": "cjeg-ww9MEza",
    "outputId": "fb5b6b59-672e-450d-fcea-3bd772cb61d7"
   },
   "outputs": [
    {
     "name": "stdout",
     "output_type": "stream",
     "text": [
      "9 samples from the dataset\n"
     ]
    },
    {
     "ename": "IndexError",
     "evalue": "index 0 is out of bounds for axis 0 with size 0",
     "output_type": "error",
     "traceback": [
      "\u001b[1;31m---------------------------------------------------------------------------\u001b[0m",
      "\u001b[1;31mIndexError\u001b[0m                                Traceback (most recent call last)",
      "\u001b[1;32m<ipython-input-23-94302c39771a>\u001b[0m in \u001b[0;36m<module>\u001b[1;34m\u001b[0m\n\u001b[0;32m     12\u001b[0m     \u001b[0mi\u001b[0m \u001b[1;33m=\u001b[0m \u001b[0mi\u001b[0m\u001b[1;33m+\u001b[0m\u001b[1;36m1\u001b[0m\u001b[1;33m\u001b[0m\u001b[1;33m\u001b[0m\u001b[0m\n\u001b[0;32m     13\u001b[0m   \u001b[0mplt\u001b[0m\u001b[1;33m.\u001b[0m\u001b[0mshow\u001b[0m\u001b[1;33m(\u001b[0m\u001b[1;33m)\u001b[0m\u001b[1;33m\u001b[0m\u001b[1;33m\u001b[0m\u001b[0m\n\u001b[1;32m---> 14\u001b[1;33m \u001b[0mshow_samples\u001b[0m\u001b[1;33m(\u001b[0m\u001b[0mds_test\u001b[0m\u001b[1;33m)\u001b[0m\u001b[1;33m\u001b[0m\u001b[1;33m\u001b[0m\u001b[0m\n\u001b[0m",
      "\u001b[1;32m<ipython-input-23-94302c39771a>\u001b[0m in \u001b[0;36mshow_samples\u001b[1;34m(dataset)\u001b[0m\n\u001b[0;32m      9\u001b[0m     \u001b[0mplt\u001b[0m\u001b[1;33m.\u001b[0m\u001b[0mimshow\u001b[0m\u001b[1;33m(\u001b[0m\u001b[0mnp\u001b[0m\u001b[1;33m.\u001b[0m\u001b[0msqueeze\u001b[0m\u001b[1;33m(\u001b[0m\u001b[0ma\u001b[0m\u001b[1;33m)\u001b[0m\u001b[1;33m)\u001b[0m\u001b[1;33m\u001b[0m\u001b[1;33m\u001b[0m\u001b[0m\n\u001b[0;32m     10\u001b[0m     plt.title(\"image shape:\"+ str(a.shape)+\" (\"+str(b.numpy()) +\") \"+ \n\u001b[1;32m---> 11\u001b[1;33m               str(covert_onehot_string_labels(LABELS,b.numpy())))\n\u001b[0m\u001b[0;32m     12\u001b[0m     \u001b[0mi\u001b[0m \u001b[1;33m=\u001b[0m \u001b[0mi\u001b[0m\u001b[1;33m+\u001b[0m\u001b[1;36m1\u001b[0m\u001b[1;33m\u001b[0m\u001b[1;33m\u001b[0m\u001b[0m\n\u001b[0;32m     13\u001b[0m   \u001b[0mplt\u001b[0m\u001b[1;33m.\u001b[0m\u001b[0mshow\u001b[0m\u001b[1;33m(\u001b[0m\u001b[1;33m)\u001b[0m\u001b[1;33m\u001b[0m\u001b[1;33m\u001b[0m\u001b[0m\n",
      "\u001b[1;32m<ipython-input-22-38eacaa01e16>\u001b[0m in \u001b[0;36mcovert_onehot_string_labels\u001b[1;34m(label_string, label_onehot)\u001b[0m\n\u001b[0;32m      2\u001b[0m   \u001b[0mlabels\u001b[0m \u001b[1;33m=\u001b[0m \u001b[1;33m[\u001b[0m\u001b[1;33m]\u001b[0m\u001b[1;33m\u001b[0m\u001b[1;33m\u001b[0m\u001b[0m\n\u001b[0;32m      3\u001b[0m   \u001b[1;32mfor\u001b[0m \u001b[0mi\u001b[0m\u001b[1;33m,\u001b[0m \u001b[0mlabel\u001b[0m \u001b[1;32min\u001b[0m  \u001b[0menumerate\u001b[0m\u001b[1;33m(\u001b[0m\u001b[0mlabel_string\u001b[0m\u001b[1;33m)\u001b[0m\u001b[1;33m:\u001b[0m\u001b[1;33m\u001b[0m\u001b[1;33m\u001b[0m\u001b[0m\n\u001b[1;32m----> 4\u001b[1;33m      \u001b[1;32mif\u001b[0m \u001b[0mlabel_onehot\u001b[0m\u001b[1;33m[\u001b[0m\u001b[0mi\u001b[0m\u001b[1;33m]\u001b[0m\u001b[1;33m:\u001b[0m\u001b[1;33m\u001b[0m\u001b[1;33m\u001b[0m\u001b[0m\n\u001b[0m\u001b[0;32m      5\u001b[0m        \u001b[0mlabels\u001b[0m\u001b[1;33m.\u001b[0m\u001b[0mappend\u001b[0m\u001b[1;33m(\u001b[0m\u001b[0mlabel\u001b[0m\u001b[1;33m)\u001b[0m\u001b[1;33m\u001b[0m\u001b[1;33m\u001b[0m\u001b[0m\n\u001b[0;32m      6\u001b[0m   \u001b[1;32mif\u001b[0m \u001b[0mlen\u001b[0m\u001b[1;33m(\u001b[0m\u001b[0mlabels\u001b[0m\u001b[1;33m)\u001b[0m \u001b[1;33m==\u001b[0m \u001b[1;36m0\u001b[0m\u001b[1;33m:\u001b[0m\u001b[1;33m\u001b[0m\u001b[1;33m\u001b[0m\u001b[0m\n",
      "\u001b[1;31mIndexError\u001b[0m: index 0 is out of bounds for axis 0 with size 0"
     ]
    },
    {
     "data": {
      "image/png": "[encoded data removed]",
      "text/plain": [
       "<Figure size 1152x1152 with 1 Axes>"
      ]
     },
     "metadata": {
      "needs_background": "light"
     },
     "output_type": "display_data"
    }
   ],
   "source": [
    "def show_samples(dataset):\n",
    "  fig = plt.figure(figsize = (16, 16))\n",
    "  columns = 3\n",
    "  rows = 3\n",
    "  print(columns*rows,\"samples from the dataset\")\n",
    "  i = 1\n",
    "  for a, b in dataset.take(columns * rows): \n",
    "    fig.add_subplot(rows, columns, i)\n",
    "    plt.imshow(np.squeeze(a))\n",
    "    plt.title(\"image shape:\"+ str(a.shape)+\" (\"+str(b.numpy()) +\") \"+ \n",
    "              str(covert_onehot_string_labels(LABELS,b.numpy())))\n",
    "    i = i+1\n",
    "  plt.show()\n",
    "show_samples(ds_test)"
   ]
  },
  {
   "cell_type": "code",
   "execution_count": 24,
   "metadata": {
    "colab": {
     "base_uri": "https://localhost:8080/"
    },
    "id": "1jUBo3wzMObd",
    "outputId": "8c26522e-bc3a-4ed9-f765-5dbe518fd0d6"
   },
   "outputs": [
    {
     "name": "stdout",
     "output_type": "stream",
     "text": [
      "Number of batches in train:  25\n",
      "Number of batches in test:  7\n"
     ]
    }
   ],
   "source": [
    "#buffer_size = ds_train_resize_scale.cardinality().numpy()/10\n",
    "#ds_resize_scale_batched=ds_raw.repeat(3).shuffle(buffer_size=buffer_size).batch(64, )\n",
    "\n",
    "ds_train_batched = ds_train.batch(BATCH_SIZE).cache().prefetch(tf.data.experimental.AUTOTUNE) \n",
    "ds_test_batched = ds_test.batch(BATCH_SIZE).cache().prefetch(tf.data.experimental.AUTOTUNE)\n",
    "\n",
    "print(\"Number of batches in train: \", ds_train_batched.cardinality().numpy())\n",
    "print(\"Number of batches in test: \", ds_test_batched.cardinality().numpy())"
   ]
  },
  {
   "cell_type": "code",
   "execution_count": 25,
   "metadata": {
    "colab": {
     "base_uri": "https://localhost:8080/"
    },
    "id": "QxdCALeNMRQy",
    "outputId": "246559b0-8c37-4a09-f10d-757e753883a0"
   },
   "outputs": [
    {
     "name": "stdout",
     "output_type": "stream",
     "text": [
      "Downloading data from https://storage.googleapis.com/tensorflow/keras-applications/vgg16/vgg16_weights_tf_dim_ordering_tf_kernels_notop.h5\n",
      "58892288/58889256 [==============================] - 0s 0us/step\n"
     ]
    }
   ],
   "source": [
    "base_model = keras.applications.VGG16(\n",
    "    weights = 'imagenet',  # Load weights pre-trained on ImageNet.\n",
    "    input_shape = (64, 64, 3), # VGG16 expects min 32 x 32\n",
    "    include_top = False)  # Do not include the ImageNet classifier at the top.\n",
    "base_model.trainable = False"
   ]
  },
  {
   "cell_type": "code",
   "execution_count": 26,
   "metadata": {
    "id": "y5LUHgYKMY3e"
   },
   "outputs": [],
   "source": [
    "number_of_classes = 5"
   ]
  },
  {
   "cell_type": "code",
   "execution_count": 28,
   "metadata": {
    "id": "MJqH8XQOMaT6"
   },
   "outputs": [],
   "source": [
    "inputs = keras.Input(shape = (64, 64, 3))\n",
    "x = base_model(inputs, training = False)\n",
    "x = keras.layers.GlobalAveragePooling2D()(x)\n",
    "initializer = tf.keras.initializers.GlorotUniform(seed = 42)\n",
    "\n",
    "activation = tf.keras.activations.sigmoid #None  # tf.keras.activations.sigmoid or softmax\n",
    "\n",
    "outputs = keras.layers.Dense(number_of_classes,\n",
    "                             kernel_initializer=initializer,\n",
    "                             activation=activation)(x) \n",
    "model = keras.Model(inputs, outputs)"
   ]
  },
  {
   "cell_type": "code",
   "execution_count": 29,
   "metadata": {
    "id": "vGIXX0wPMeIG"
   },
   "outputs": [],
   "source": [
    "model.compile(optimizer = keras.optimizers.Adam(),\n",
    "              loss = keras.losses.BinaryCrossentropy(), # default from_logits=False\n",
    "              metrics = [keras.metrics.BinaryAccuracy()])"
   ]
  },
  {
   "cell_type": "code",
   "execution_count": 30,
   "metadata": {
    "colab": {
     "base_uri": "https://localhost:8080/"
    },
    "id": "q2fMRuiZMjW6",
    "outputId": "183fd7c0-6461-467d-ca43-9d5a2362ac81"
   },
   "outputs": [
    {
     "name": "stdout",
     "output_type": "stream",
     "text": [
      "Epoch 1/100\n",
      "25/25 [==============================] - 392s 14s/step - loss: 0.5993 - binary_accuracy: 0.6870 - val_loss: 0.5422 - val_binary_accuracy: 0.7465\n",
      "Epoch 2/100\n",
      "25/25 [==============================] - 1s 33ms/step - loss: 0.5189 - binary_accuracy: 0.7620 - val_loss: 0.5134 - val_binary_accuracy: 0.7575\n",
      "Epoch 3/100\n",
      "25/25 [==============================] - 1s 29ms/step - loss: 0.4864 - binary_accuracy: 0.7747 - val_loss: 0.4862 - val_binary_accuracy: 0.7675\n",
      "Epoch 4/100\n",
      "25/25 [==============================] - 1s 30ms/step - loss: 0.4615 - binary_accuracy: 0.7847 - val_loss: 0.4665 - val_binary_accuracy: 0.7775\n",
      "Epoch 5/100\n",
      "25/25 [==============================] - 1s 29ms/step - loss: 0.4418 - binary_accuracy: 0.7919 - val_loss: 0.4514 - val_binary_accuracy: 0.7885\n",
      "Epoch 6/100\n",
      "25/25 [==============================] - 1s 29ms/step - loss: 0.4261 - binary_accuracy: 0.8020 - val_loss: 0.4392 - val_binary_accuracy: 0.8005\n",
      "Epoch 7/100\n",
      "25/25 [==============================] - 1s 29ms/step - loss: 0.4132 - binary_accuracy: 0.8100 - val_loss: 0.4295 - val_binary_accuracy: 0.8040\n",
      "Epoch 8/100\n",
      "25/25 [==============================] - 1s 29ms/step - loss: 0.4024 - binary_accuracy: 0.8186 - val_loss: 0.4214 - val_binary_accuracy: 0.8115\n",
      "Epoch 9/100\n",
      "25/25 [==============================] - 1s 29ms/step - loss: 0.3933 - binary_accuracy: 0.8246 - val_loss: 0.4146 - val_binary_accuracy: 0.8135\n",
      "Epoch 10/100\n",
      "25/25 [==============================] - 1s 29ms/step - loss: 0.3854 - binary_accuracy: 0.8276 - val_loss: 0.4088 - val_binary_accuracy: 0.8175\n",
      "Epoch 11/100\n",
      "25/25 [==============================] - 1s 30ms/step - loss: 0.3784 - binary_accuracy: 0.8336 - val_loss: 0.4037 - val_binary_accuracy: 0.8250\n",
      "Epoch 12/100\n",
      "25/25 [==============================] - 1s 29ms/step - loss: 0.3721 - binary_accuracy: 0.8357 - val_loss: 0.3992 - val_binary_accuracy: 0.8260\n",
      "Epoch 13/100\n",
      "25/25 [==============================] - 1s 29ms/step - loss: 0.3665 - binary_accuracy: 0.8381 - val_loss: 0.3952 - val_binary_accuracy: 0.8275\n",
      "Epoch 14/100\n",
      "25/25 [==============================] - 1s 29ms/step - loss: 0.3613 - binary_accuracy: 0.8409 - val_loss: 0.3916 - val_binary_accuracy: 0.8290\n",
      "Epoch 15/100\n",
      "25/25 [==============================] - 1s 29ms/step - loss: 0.3566 - binary_accuracy: 0.8435 - val_loss: 0.3883 - val_binary_accuracy: 0.8305\n",
      "Epoch 16/100\n",
      "25/25 [==============================] - 1s 30ms/step - loss: 0.3522 - binary_accuracy: 0.8462 - val_loss: 0.3852 - val_binary_accuracy: 0.8310\n",
      "Epoch 17/100\n",
      "25/25 [==============================] - 1s 30ms/step - loss: 0.3481 - binary_accuracy: 0.8489 - val_loss: 0.3825 - val_binary_accuracy: 0.8340\n",
      "Epoch 18/100\n",
      "25/25 [==============================] - 1s 30ms/step - loss: 0.3443 - binary_accuracy: 0.8507 - val_loss: 0.3799 - val_binary_accuracy: 0.8350\n",
      "Epoch 19/100\n",
      "25/25 [==============================] - 1s 30ms/step - loss: 0.3407 - binary_accuracy: 0.8528 - val_loss: 0.3775 - val_binary_accuracy: 0.8355\n",
      "Epoch 20/100\n",
      "25/25 [==============================] - 1s 30ms/step - loss: 0.3373 - binary_accuracy: 0.8549 - val_loss: 0.3752 - val_binary_accuracy: 0.8360\n",
      "Epoch 21/100\n",
      "25/25 [==============================] - 1s 30ms/step - loss: 0.3341 - binary_accuracy: 0.8561 - val_loss: 0.3731 - val_binary_accuracy: 0.8370\n",
      "Epoch 22/100\n",
      "25/25 [==============================] - 1s 30ms/step - loss: 0.3311 - binary_accuracy: 0.8576 - val_loss: 0.3712 - val_binary_accuracy: 0.8375\n",
      "Epoch 23/100\n",
      "25/25 [==============================] - 1s 30ms/step - loss: 0.3282 - binary_accuracy: 0.8598 - val_loss: 0.3693 - val_binary_accuracy: 0.8385\n",
      "Epoch 24/100\n",
      "25/25 [==============================] - 1s 29ms/step - loss: 0.3255 - binary_accuracy: 0.8622 - val_loss: 0.3676 - val_binary_accuracy: 0.8385\n",
      "Epoch 25/100\n",
      "25/25 [==============================] - 1s 29ms/step - loss: 0.3228 - binary_accuracy: 0.8631 - val_loss: 0.3659 - val_binary_accuracy: 0.8400\n",
      "Epoch 26/100\n",
      "25/25 [==============================] - 1s 30ms/step - loss: 0.3203 - binary_accuracy: 0.8638 - val_loss: 0.3644 - val_binary_accuracy: 0.8410\n",
      "Epoch 27/100\n",
      "25/25 [==============================] - 1s 29ms/step - loss: 0.3179 - binary_accuracy: 0.8644 - val_loss: 0.3629 - val_binary_accuracy: 0.8420\n",
      "Epoch 28/100\n",
      "25/25 [==============================] - 1s 30ms/step - loss: 0.3156 - binary_accuracy: 0.8655 - val_loss: 0.3615 - val_binary_accuracy: 0.8420\n",
      "Epoch 29/100\n",
      "25/25 [==============================] - 1s 31ms/step - loss: 0.3134 - binary_accuracy: 0.8666 - val_loss: 0.3601 - val_binary_accuracy: 0.8435\n",
      "Epoch 30/100\n",
      "25/25 [==============================] - 1s 30ms/step - loss: 0.3112 - binary_accuracy: 0.8682 - val_loss: 0.3589 - val_binary_accuracy: 0.8435\n",
      "Epoch 31/100\n",
      "25/25 [==============================] - 1s 30ms/step - loss: 0.3092 - binary_accuracy: 0.8690 - val_loss: 0.3576 - val_binary_accuracy: 0.8445\n",
      "Epoch 32/100\n",
      "25/25 [==============================] - 1s 30ms/step - loss: 0.3072 - binary_accuracy: 0.8701 - val_loss: 0.3565 - val_binary_accuracy: 0.8450\n",
      "Epoch 33/100\n",
      "25/25 [==============================] - 1s 30ms/step - loss: 0.3052 - binary_accuracy: 0.8716 - val_loss: 0.3554 - val_binary_accuracy: 0.8450\n",
      "Epoch 34/100\n",
      "25/25 [==============================] - 1s 30ms/step - loss: 0.3034 - binary_accuracy: 0.8725 - val_loss: 0.3543 - val_binary_accuracy: 0.8455\n",
      "Epoch 35/100\n",
      "25/25 [==============================] - 1s 30ms/step - loss: 0.3016 - binary_accuracy: 0.8739 - val_loss: 0.3533 - val_binary_accuracy: 0.8460\n",
      "Epoch 36/100\n",
      "25/25 [==============================] - 1s 30ms/step - loss: 0.2998 - binary_accuracy: 0.8747 - val_loss: 0.3523 - val_binary_accuracy: 0.8455\n",
      "Epoch 37/100\n",
      "25/25 [==============================] - 1s 30ms/step - loss: 0.2981 - binary_accuracy: 0.8763 - val_loss: 0.3514 - val_binary_accuracy: 0.8450\n",
      "Epoch 38/100\n",
      "25/25 [==============================] - 1s 30ms/step - loss: 0.2964 - binary_accuracy: 0.8768 - val_loss: 0.3505 - val_binary_accuracy: 0.8435\n",
      "Epoch 39/100\n",
      "25/25 [==============================] - 1s 30ms/step - loss: 0.2948 - binary_accuracy: 0.8772 - val_loss: 0.3497 - val_binary_accuracy: 0.8435\n",
      "Epoch 40/100\n",
      "25/25 [==============================] - 1s 30ms/step - loss: 0.2933 - binary_accuracy: 0.8786 - val_loss: 0.3488 - val_binary_accuracy: 0.8450\n",
      "Epoch 41/100\n",
      "25/25 [==============================] - 1s 30ms/step - loss: 0.2918 - binary_accuracy: 0.8796 - val_loss: 0.3480 - val_binary_accuracy: 0.8450\n",
      "Epoch 42/100\n",
      "25/25 [==============================] - 1s 30ms/step - loss: 0.2903 - binary_accuracy: 0.8807 - val_loss: 0.3473 - val_binary_accuracy: 0.8450\n",
      "Epoch 43/100\n",
      "25/25 [==============================] - 1s 31ms/step - loss: 0.2888 - binary_accuracy: 0.8815 - val_loss: 0.3465 - val_binary_accuracy: 0.8475\n",
      "Epoch 44/100\n",
      "25/25 [==============================] - 1s 31ms/step - loss: 0.2874 - binary_accuracy: 0.8822 - val_loss: 0.3458 - val_binary_accuracy: 0.8465\n",
      "Epoch 45/100\n",
      "25/25 [==============================] - 1s 30ms/step - loss: 0.2860 - binary_accuracy: 0.8830 - val_loss: 0.3452 - val_binary_accuracy: 0.8470\n",
      "Epoch 46/100\n",
      "25/25 [==============================] - 1s 30ms/step - loss: 0.2847 - binary_accuracy: 0.8832 - val_loss: 0.3445 - val_binary_accuracy: 0.8485\n",
      "Epoch 47/100\n",
      "25/25 [==============================] - 1s 30ms/step - loss: 0.2834 - binary_accuracy: 0.8839 - val_loss: 0.3439 - val_binary_accuracy: 0.8490\n",
      "Epoch 48/100\n",
      "25/25 [==============================] - 1s 30ms/step - loss: 0.2821 - binary_accuracy: 0.8842 - val_loss: 0.3433 - val_binary_accuracy: 0.8500\n",
      "Epoch 49/100\n",
      "25/25 [==============================] - 1s 31ms/step - loss: 0.2808 - binary_accuracy: 0.8846 - val_loss: 0.3427 - val_binary_accuracy: 0.8505\n",
      "Epoch 50/100\n",
      "25/25 [==============================] - 1s 31ms/step - loss: 0.2796 - binary_accuracy: 0.8850 - val_loss: 0.3421 - val_binary_accuracy: 0.8505\n",
      "Epoch 51/100\n",
      "25/25 [==============================] - 1s 30ms/step - loss: 0.2784 - binary_accuracy: 0.8855 - val_loss: 0.3415 - val_binary_accuracy: 0.8520\n",
      "Epoch 52/100\n",
      "25/25 [==============================] - 1s 31ms/step - loss: 0.2772 - binary_accuracy: 0.8851 - val_loss: 0.3410 - val_binary_accuracy: 0.8515\n",
      "Epoch 53/100\n",
      "25/25 [==============================] - 1s 31ms/step - loss: 0.2760 - binary_accuracy: 0.8857 - val_loss: 0.3405 - val_binary_accuracy: 0.8525\n",
      "Epoch 54/100\n",
      "25/25 [==============================] - 1s 31ms/step - loss: 0.2749 - binary_accuracy: 0.8869 - val_loss: 0.3400 - val_binary_accuracy: 0.8520\n",
      "Epoch 55/100\n",
      "25/25 [==============================] - 1s 30ms/step - loss: 0.2738 - binary_accuracy: 0.8874 - val_loss: 0.3395 - val_binary_accuracy: 0.8535\n",
      "Epoch 56/100\n",
      "25/25 [==============================] - 1s 31ms/step - loss: 0.2727 - binary_accuracy: 0.8879 - val_loss: 0.3390 - val_binary_accuracy: 0.8540\n",
      "Epoch 57/100\n",
      "25/25 [==============================] - 1s 31ms/step - loss: 0.2716 - binary_accuracy: 0.8886 - val_loss: 0.3386 - val_binary_accuracy: 0.8545\n",
      "Epoch 58/100\n",
      "25/25 [==============================] - 1s 32ms/step - loss: 0.2706 - binary_accuracy: 0.8890 - val_loss: 0.3382 - val_binary_accuracy: 0.8540\n",
      "Epoch 59/100\n",
      "25/25 [==============================] - 1s 31ms/step - loss: 0.2695 - binary_accuracy: 0.8895 - val_loss: 0.3377 - val_binary_accuracy: 0.8540\n",
      "Epoch 60/100\n",
      "25/25 [==============================] - 1s 31ms/step - loss: 0.2685 - binary_accuracy: 0.8900 - val_loss: 0.3373 - val_binary_accuracy: 0.8550\n",
      "Epoch 61/100\n",
      "25/25 [==============================] - 1s 31ms/step - loss: 0.2675 - binary_accuracy: 0.8909 - val_loss: 0.3369 - val_binary_accuracy: 0.8550\n",
      "Epoch 62/100\n",
      "25/25 [==============================] - 1s 31ms/step - loss: 0.2665 - binary_accuracy: 0.8910 - val_loss: 0.3365 - val_binary_accuracy: 0.8555\n",
      "Epoch 63/100\n",
      "25/25 [==============================] - 1s 31ms/step - loss: 0.2656 - binary_accuracy: 0.8911 - val_loss: 0.3362 - val_binary_accuracy: 0.8565\n",
      "Epoch 64/100\n",
      "25/25 [==============================] - 1s 31ms/step - loss: 0.2646 - binary_accuracy: 0.8917 - val_loss: 0.3358 - val_binary_accuracy: 0.8570\n",
      "Epoch 65/100\n",
      "25/25 [==============================] - 1s 32ms/step - loss: 0.2637 - binary_accuracy: 0.8926 - val_loss: 0.3355 - val_binary_accuracy: 0.8575\n",
      "Epoch 66/100\n",
      "25/25 [==============================] - 1s 32ms/step - loss: 0.2628 - binary_accuracy: 0.8931 - val_loss: 0.3351 - val_binary_accuracy: 0.8575\n",
      "Epoch 67/100\n",
      "25/25 [==============================] - 1s 32ms/step - loss: 0.2619 - binary_accuracy: 0.8934 - val_loss: 0.3348 - val_binary_accuracy: 0.8580\n",
      "Epoch 68/100\n",
      "25/25 [==============================] - 1s 32ms/step - loss: 0.2610 - binary_accuracy: 0.8938 - val_loss: 0.3345 - val_binary_accuracy: 0.8580\n",
      "Epoch 69/100\n",
      "25/25 [==============================] - 1s 31ms/step - loss: 0.2601 - binary_accuracy: 0.8941 - val_loss: 0.3342 - val_binary_accuracy: 0.8580\n",
      "Epoch 70/100\n",
      "25/25 [==============================] - 1s 31ms/step - loss: 0.2592 - binary_accuracy: 0.8945 - val_loss: 0.3339 - val_binary_accuracy: 0.8580\n",
      "Epoch 71/100\n",
      "25/25 [==============================] - 1s 31ms/step - loss: 0.2584 - binary_accuracy: 0.8948 - val_loss: 0.3336 - val_binary_accuracy: 0.8575\n",
      "Epoch 72/100\n",
      "25/25 [==============================] - 1s 31ms/step - loss: 0.2575 - binary_accuracy: 0.8949 - val_loss: 0.3333 - val_binary_accuracy: 0.8575\n",
      "Epoch 73/100\n",
      "25/25 [==============================] - 1s 32ms/step - loss: 0.2567 - binary_accuracy: 0.8954 - val_loss: 0.3330 - val_binary_accuracy: 0.8580\n",
      "Epoch 74/100\n",
      "25/25 [==============================] - 1s 32ms/step - loss: 0.2559 - binary_accuracy: 0.8955 - val_loss: 0.3328 - val_binary_accuracy: 0.8585\n",
      "Epoch 75/100\n",
      "25/25 [==============================] - 1s 31ms/step - loss: 0.2551 - binary_accuracy: 0.8959 - val_loss: 0.3325 - val_binary_accuracy: 0.8590\n",
      "Epoch 76/100\n",
      "25/25 [==============================] - 1s 31ms/step - loss: 0.2543 - binary_accuracy: 0.8961 - val_loss: 0.3323 - val_binary_accuracy: 0.8590\n",
      "Epoch 77/100\n",
      "25/25 [==============================] - 1s 32ms/step - loss: 0.2535 - binary_accuracy: 0.8964 - val_loss: 0.3320 - val_binary_accuracy: 0.8590\n",
      "Epoch 78/100\n",
      "25/25 [==============================] - 1s 31ms/step - loss: 0.2527 - binary_accuracy: 0.8965 - val_loss: 0.3318 - val_binary_accuracy: 0.8590\n",
      "Epoch 79/100\n",
      "25/25 [==============================] - 1s 31ms/step - loss: 0.2520 - binary_accuracy: 0.8971 - val_loss: 0.3315 - val_binary_accuracy: 0.8590\n",
      "Epoch 80/100\n",
      "25/25 [==============================] - 1s 31ms/step - loss: 0.2512 - binary_accuracy: 0.8973 - val_loss: 0.3313 - val_binary_accuracy: 0.8585\n",
      "Epoch 81/100\n",
      "25/25 [==============================] - 1s 30ms/step - loss: 0.2505 - binary_accuracy: 0.8976 - val_loss: 0.3311 - val_binary_accuracy: 0.8590\n",
      "Epoch 82/100\n",
      "25/25 [==============================] - 1s 31ms/step - loss: 0.2498 - binary_accuracy: 0.8979 - val_loss: 0.3309 - val_binary_accuracy: 0.8590\n",
      "Epoch 83/100\n",
      "25/25 [==============================] - 1s 31ms/step - loss: 0.2490 - binary_accuracy: 0.8980 - val_loss: 0.3307 - val_binary_accuracy: 0.8595\n",
      "Epoch 84/100\n",
      "25/25 [==============================] - 1s 31ms/step - loss: 0.2483 - binary_accuracy: 0.8993 - val_loss: 0.3305 - val_binary_accuracy: 0.8605\n",
      "Epoch 85/100\n",
      "25/25 [==============================] - 1s 31ms/step - loss: 0.2476 - binary_accuracy: 0.8994 - val_loss: 0.3303 - val_binary_accuracy: 0.8600\n",
      "Epoch 86/100\n",
      "25/25 [==============================] - 1s 31ms/step - loss: 0.2469 - binary_accuracy: 0.8999 - val_loss: 0.3301 - val_binary_accuracy: 0.8605\n",
      "Epoch 87/100\n",
      "25/25 [==============================] - 1s 30ms/step - loss: 0.2462 - binary_accuracy: 0.9004 - val_loss: 0.3300 - val_binary_accuracy: 0.8610\n",
      "Epoch 88/100\n",
      "25/25 [==============================] - 1s 30ms/step - loss: 0.2455 - binary_accuracy: 0.9006 - val_loss: 0.3298 - val_binary_accuracy: 0.8610\n",
      "Epoch 89/100\n",
      "25/25 [==============================] - 1s 30ms/step - loss: 0.2449 - binary_accuracy: 0.9006 - val_loss: 0.3296 - val_binary_accuracy: 0.8610\n",
      "Epoch 90/100\n",
      "25/25 [==============================] - 1s 30ms/step - loss: 0.2442 - binary_accuracy: 0.9010 - val_loss: 0.3295 - val_binary_accuracy: 0.8615\n",
      "Epoch 91/100\n",
      "25/25 [==============================] - 1s 30ms/step - loss: 0.2436 - binary_accuracy: 0.9010 - val_loss: 0.3293 - val_binary_accuracy: 0.8615\n",
      "Epoch 92/100\n",
      "25/25 [==============================] - 1s 30ms/step - loss: 0.2429 - binary_accuracy: 0.9016 - val_loss: 0.3292 - val_binary_accuracy: 0.8605\n",
      "Epoch 93/100\n",
      "25/25 [==============================] - 1s 30ms/step - loss: 0.2423 - binary_accuracy: 0.9020 - val_loss: 0.3290 - val_binary_accuracy: 0.8600\n",
      "Epoch 94/100\n",
      "25/25 [==============================] - 1s 30ms/step - loss: 0.2416 - binary_accuracy: 0.9020 - val_loss: 0.3289 - val_binary_accuracy: 0.8595\n",
      "Epoch 95/100\n",
      "25/25 [==============================] - 1s 31ms/step - loss: 0.2410 - binary_accuracy: 0.9022 - val_loss: 0.3287 - val_binary_accuracy: 0.8595\n",
      "Epoch 96/100\n",
      "25/25 [==============================] - 1s 30ms/step - loss: 0.2404 - binary_accuracy: 0.9024 - val_loss: 0.3286 - val_binary_accuracy: 0.8595\n",
      "Epoch 97/100\n",
      "25/25 [==============================] - 1s 30ms/step - loss: 0.2398 - binary_accuracy: 0.9029 - val_loss: 0.3285 - val_binary_accuracy: 0.8595\n",
      "Epoch 98/100\n",
      "25/25 [==============================] - 1s 31ms/step - loss: 0.2392 - binary_accuracy: 0.9030 - val_loss: 0.3284 - val_binary_accuracy: 0.8590\n",
      "Epoch 99/100\n",
      "25/25 [==============================] - 1s 30ms/step - loss: 0.2386 - binary_accuracy: 0.9034 - val_loss: 0.3282 - val_binary_accuracy: 0.8590\n",
      "Epoch 100/100\n",
      "25/25 [==============================] - 1s 30ms/step - loss: 0.2380 - binary_accuracy: 0.9038 - val_loss: 0.3281 - val_binary_accuracy: 0.8590\n"
     ]
    },
    {
     "data": {
      "text/plain": [
       "<tensorflow.python.keras.callbacks.History at 0x7f3a8248b8d0>"
      ]
     },
     "execution_count": 30,
     "metadata": {
      "tags": []
     },
     "output_type": "execute_result"
    }
   ],
   "source": [
    "model.fit(ds_train_batched, validation_data = ds_test_batched, epochs = 100)"
   ]
  },
  {
   "cell_type": "code",
   "execution_count": 31,
   "metadata": {
    "colab": {
     "base_uri": "https://localhost:8080/"
    },
    "id": "mpr_8DNGMpTi",
    "outputId": "d62fc79f-596f-4b79-dfb1-ab6ab908ab50"
   },
   "outputs": [
    {
     "name": "stdout",
     "output_type": "stream",
     "text": [
      "7/7 [==============================] - 0s 20ms/step - loss: 0.3281 - binary_accuracy: 0.8590\n",
      "Test Accuracy:  0.8590000867843628\n"
     ]
    }
   ],
   "source": [
    "ds = ds_test_batched\n",
    "print(\"Test Accuracy: \", model.evaluate(ds)[1])"
   ]
  },
  {
   "cell_type": "code",
   "execution_count": 34,
   "metadata": {
    "colab": {
     "base_uri": "https://localhost:8080/"
    },
    "id": "ZSw-ze6yMq8V",
    "outputId": "6bcb0feb-22e8-444b-87d5-6ed801ec83d2"
   },
   "outputs": [
    {
     "name": "stdout",
     "output_type": "stream",
     "text": [
      "A sample output from the last layer (model)  [0.10203172 0.29928726 0.3711271  0.18140112 0.0447447 ]\n",
      "10 Sample predictions:\n",
      "predicted:  [0. 0. 0. 0. 0.] ['NONE'] Actual Label: (['sunset'])\n",
      "predicted:  [0. 0. 0. 0. 0.] ['NONE'] Actual Label: (['desert'])\n",
      "predicted:  [1. 0. 0. 0. 0.] ['desert'] Actual Label: (['desert'])\n",
      "predicted:  [0. 0. 0. 0. 0.] ['NONE'] Actual Label: (['mountains', 'trees'])\n",
      "predicted:  [0. 0. 0. 0. 1.] ['trees'] Actual Label: (['trees'])\n",
      "predicted:  [0. 0. 1. 0. 0.] ['sea'] Actual Label: (['sea'])\n",
      "predicted:  [0. 0. 0. 1. 0.] ['sunset'] Actual Label: (['sunset'])\n",
      "predicted:  [0. 0. 1. 1. 0.] ['sea', 'sunset'] Actual Label: (['sea', 'sunset'])\n",
      "predicted:  [0. 0. 0. 1. 0.] ['sunset'] Actual Label: (['sunset', 'trees'])\n",
      "predicted:  [0. 0. 0. 0. 0.] ['NONE'] Actual Label: (['desert'])\n"
     ]
    }
   ],
   "source": [
    "ds = ds_test\n",
    "predictions = model.predict(ds.batch(batch_size = 10).take(1))\n",
    "print(\"A sample output from the last layer (model) \", predictions[0])\n",
    "y = []\n",
    "limiar = 0.5\n",
    "print(\"10 Sample predictions:\")\n",
    "for (pred, (a, b)) in zip(predictions, ds.take(10)):\n",
    "  \n",
    "  pred[pred > limiar] = 1\n",
    "  pred[pred <= limiar] = 0\n",
    "  print(\"predicted: \" , pred, str(covert_onehot_string_labels(LABELS, pred)),  \n",
    "        \"Actual Label: (\"+str(covert_onehot_string_labels(LABELS,b.numpy())) +\")\")\n",
    "  y.append(b.numpy())"
   ]
  }
 ],
 "metadata": {
  "accelerator": "GPU",
  "colab": {
   "name": "main_notebook.ipynb",
   "provenance": []
  },
  "kernelspec": {
   "display_name": "Python 3",
   "language": "python",
   "name": "python3"
  },
  "language_info": {
   "codemirror_mode": {
    "name": "ipython",
    "version": 3
   },
   "file_extension": ".py",
   "mimetype": "text/x-python",
   "name": "python",
   "nbconvert_exporter": "python",
   "pygments_lexer": "ipython3",
   "version": "3.8.5"
  }
 },
 "nbformat": 4,
 "nbformat_minor": 1
}
